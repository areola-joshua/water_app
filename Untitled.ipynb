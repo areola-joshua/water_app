{
 "cells": [
  {
   "cell_type": "code",
   "execution_count": null,
   "id": "c18d483e",
   "metadata": {},
   "outputs": [],
   "source": [
    "!streamlit run water.py"
   ]
  },
  {
   "cell_type": "code",
   "execution_count": null,
   "id": "21b3dc5a",
   "metadata": {},
   "outputs": [],
   "source": []
  }
 ],
 "metadata": {
  "kernelspec": {
   "display_name": "Python 3 (ipykernel)",
   "language": "python",
   "name": "python3"
  },
  "language_info": {
   "codemirror_mode": {
    "name": "ipython",
    "version": 3
   },
   "file_extension": ".py",
   "mimetype": "text/x-python",
   "name": "python",
   "nbconvert_exporter": "python",
   "pygments_lexer": "ipython3",
   "version": "3.11.5"
  }
 },
 "nbformat": 4,
 "nbformat_minor": 5
}
